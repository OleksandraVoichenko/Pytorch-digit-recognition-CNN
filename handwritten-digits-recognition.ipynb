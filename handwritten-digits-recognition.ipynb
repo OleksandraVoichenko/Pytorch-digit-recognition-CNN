{
 "cells": [
  {
   "cell_type": "markdown",
   "id": "b751d4c5-ba71-4e7c-bc06-d01c80d5b001",
   "metadata": {},
   "source": [
    "# Handwritten Digit Recognition with Pytorch"
   ]
  },
  {
   "cell_type": "markdown",
   "id": "81aec540-3cad-45e2-a39a-85dd115f17be",
   "metadata": {},
   "source": [
    "In this project I'll create a beginner-level application using Python framework - Pytorch. As well as matplotlib and Numpy."
   ]
  },
  {
   "cell_type": "code",
   "execution_count": 81,
   "id": "74cd65ea-1b38-4b81-baed-628dc49c79b1",
   "metadata": {},
   "outputs": [],
   "source": [
    "# import libraries\n",
    "\n",
    "from torchvision import datasets\n",
    "from torchvision.transforms import ToTensor"
   ]
  },
  {
   "cell_type": "code",
   "execution_count": 82,
   "id": "c383d010-2f62-416a-bcce-51707efcd289",
   "metadata": {},
   "outputs": [],
   "source": [
    "train_data = datasets.MNIST(\n",
    "    root = 'data', # specify the directory for downloading dataset\n",
    "    train = True, # specify that set we're trying to download is \"train\"\n",
    "    transform = ToTensor(), # transform images to N-dimentional matrixes(Tensors)\n",
    "    download = True # we download set and don't use local directory\n",
    ")\n",
    "\n",
    "test_data = datasets.MNIST(\n",
    "    root = 'data',\n",
    "    train = False,\n",
    "    transform = ToTensor(),\n",
    "    download = True\n",
    ")"
   ]
  },
  {
   "cell_type": "markdown",
   "id": "84f72747-3fb0-424e-a44b-10860257de31",
   "metadata": {},
   "source": [
    "## EDA"
   ]
  },
  {
   "cell_type": "code",
   "execution_count": 83,
   "id": "f0155db6-4094-4814-baff-b6284cbb0eec",
   "metadata": {},
   "outputs": [
    {
     "data": {
      "text/plain": [
       "Dataset MNIST\n",
       "    Number of datapoints: 60000\n",
       "    Root location: data\n",
       "    Split: Train\n",
       "    StandardTransform\n",
       "Transform: ToTensor()"
      ]
     },
     "execution_count": 83,
     "metadata": {},
     "output_type": "execute_result"
    }
   ],
   "source": [
    "train_data # general dataset info"
   ]
  },
  {
   "cell_type": "code",
   "execution_count": 84,
   "id": "a374e110-3d7f-447b-9853-179860849684",
   "metadata": {
    "scrolled": true
   },
   "outputs": [
    {
     "data": {
      "text/plain": [
       "Dataset MNIST\n",
       "    Number of datapoints: 10000\n",
       "    Root location: data\n",
       "    Split: Test\n",
       "    StandardTransform\n",
       "Transform: ToTensor()"
      ]
     },
     "execution_count": 84,
     "metadata": {},
     "output_type": "execute_result"
    }
   ],
   "source": [
    "test_data"
   ]
  },
  {
   "cell_type": "code",
   "execution_count": 85,
   "id": "12fa3518-a76a-4484-b5b2-2a8fdd761139",
   "metadata": {},
   "outputs": [
    {
     "data": {
      "text/plain": [
       "torch.Size([60000, 28, 28])"
      ]
     },
     "execution_count": 85,
     "metadata": {},
     "output_type": "execute_result"
    }
   ],
   "source": [
    "train_data.data.shape # shape of data"
   ]
  },
  {
   "cell_type": "code",
   "execution_count": 86,
   "id": "b1979b0d-210b-4f98-a7ed-2d0a766f9d76",
   "metadata": {},
   "outputs": [
    {
     "data": {
      "text/plain": [
       "torch.Size([10000, 28, 28])"
      ]
     },
     "execution_count": 86,
     "metadata": {},
     "output_type": "execute_result"
    }
   ],
   "source": [
    "test_data.data.shape"
   ]
  },
  {
   "cell_type": "code",
   "execution_count": 87,
   "id": "fda65b82-1fc4-4c92-b98b-2f547cf532d2",
   "metadata": {
    "scrolled": true
   },
   "outputs": [
    {
     "data": {
      "text/plain": [
       "torch.Size([60000])"
      ]
     },
     "execution_count": 87,
     "metadata": {},
     "output_type": "execute_result"
    }
   ],
   "source": [
    "train_data.targets.shape # size of lables of digits"
   ]
  },
  {
   "cell_type": "code",
   "execution_count": 88,
   "id": "f2cad457-44ac-4539-bc8b-72896e2382c9",
   "metadata": {},
   "outputs": [
    {
     "data": {
      "text/plain": [
       "tensor([5, 0, 4,  ..., 5, 6, 8])"
      ]
     },
     "execution_count": 88,
     "metadata": {},
     "output_type": "execute_result"
    }
   ],
   "source": [
    "train_data.targets"
   ]
  },
  {
   "cell_type": "code",
   "execution_count": 89,
   "id": "f9dfbc47-43b1-41f9-aa3c-fec82ae6fbc9",
   "metadata": {},
   "outputs": [],
   "source": [
    "from torch.utils.data import DataLoader #dataloader will help us create train and test sets\n",
    "\n",
    "loaders = {\n",
    "    'train': DataLoader(train_data, # create from train data\n",
    "                        batch_size=100, # will consist of batches of 100 digits\n",
    "                        shuffle=True, # we'll have digits randomly dstributed\n",
    "                        num_workers=1), # only 1 digit per \n",
    "\n",
    "    'test': DataLoader(test_data,\n",
    "                       batch_size=100,\n",
    "                       shuffle=True,\n",
    "                       num_workers=1)\n",
    "}"
   ]
  },
  {
   "cell_type": "code",
   "execution_count": 90,
   "id": "881f4f56-064e-4ae6-b044-aa10322e6186",
   "metadata": {
    "scrolled": true
   },
   "outputs": [
    {
     "data": {
      "text/plain": [
       "{'train': <torch.utils.data.dataloader.DataLoader at 0x7ff1a20ab880>,\n",
       " 'test': <torch.utils.data.dataloader.DataLoader at 0x7ff1a2204b50>}"
      ]
     },
     "execution_count": 90,
     "metadata": {},
     "output_type": "execute_result"
    }
   ],
   "source": [
    "loaders"
   ]
  },
  {
   "cell_type": "markdown",
   "id": "bed5cd30-3ef3-4641-a92d-0237f6d4feb2",
   "metadata": {},
   "source": [
    "## Creating Neural Network"
   ]
  },
  {
   "cell_type": "code",
   "execution_count": 91,
   "id": "0f96d2d4-0e5e-4906-808e-11628199a31c",
   "metadata": {
    "scrolled": true
   },
   "outputs": [],
   "source": [
    "import torch.nn as nn\n",
    "import torch.nn.functional as F\n",
    "import torch.optim as optim\n",
    "\n",
    "class CNN(nn.Module):  # Convolutional Neural Network\n",
    "    def __init__(self):  # Create CNN architecture\n",
    "        super(CNN, self).__init__()\n",
    "\n",
    "        self.conv1 = nn.Conv2d(1, 10, kernel_size=5)  # Add 1st convolutional layer to create depth of 10\n",
    "        self.conv2 = nn.Conv2d(10, 20, kernel_size=5)  # Add 2nd convolutional layer to create depth of 20\n",
    "        self.conv2_drop = nn.Dropout2d()  # Reduce overfitting by randomly setting some activations to zero\n",
    "        self.fc1 = nn.Linear(320, 50)  # Flatten the feature map to a vector of 320 elements and then to 50 neurons\n",
    "        self.fc2 = nn.Linear(50, 10)  # Fully connected layer reducing to 10 neurons (number of classes)\n",
    "\n",
    "    def forward(self, x):\n",
    "        x = F.relu(F.max_pool2d(self.conv1(x), 2))  # Apply ReLU activation and max pooling to reduce dimensionality\n",
    "        x = F.relu(F.max_pool2d(self.conv2_drop(self.conv2(x)), 2))  # Apply dropout, ReLU, and max pooling to reduce dimensionality further\n",
    "        x = x.view(-1, 320)  # Flatten the feature map to a vector of size 320\n",
    "        x = F.relu(self.fc1(x))  # Apply ReLU activation to the fully connected layer\n",
    "        x = F.dropout(x, training=self.training)  # Apply dropout only during training to reduce overfitting\n",
    "        x = self.fc2(x)  # Output layer with 10 neurons (one for each class)\n",
    "\n",
    "        return F.softmax(x, dim=1)  # Apply softmax activation to get class probabilities"
   ]
  },
  {
   "cell_type": "code",
   "execution_count": 92,
   "id": "e0c1cf69-8e08-41e4-9d47-1ed04eb57a4d",
   "metadata": {},
   "outputs": [],
   "source": [
    "import torch\n",
    "\n",
    "optimizer = optim.Adam(model.parameters(), lr=0.001)  # Create an Adam optimizer with a learning rate of 0.001\n",
    "\n",
    "loss_fn = nn.CrossEntropyLoss()  # Define the loss function as CrossEntropyLoss, suitable for classification\n",
    "\n",
    "def train(epoch):  # Define the training function, which takes the epoch number as an argument\n",
    "    model.train()  # Set the model to training mode\n",
    "    for batch_idx, (data, target) in enumerate(loaders['train']):  # Iterate over batches of data from the training loader\n",
    "        optimizer.zero_grad()  # Reset the gradients of all model parameters\n",
    "        output = model(data)  # Forward pass: compute the model output\n",
    "        loss = loss_fn(output, target)  # Compute the loss between the model output and the target labels\n",
    "        loss.backward()  # Backward pass: compute the gradients of the loss w.r.t. model parameters\n",
    "        optimizer.step()  # Update model parameters using the optimizer\n",
    "        if batch_idx % 20 == 0:\n",
    "            print(f\"Epoch: {epoch}, Progress: {batch_idx * len(data)} / {len(loaders['train'].dataset)}, Loss: {loss.item():.6f}\")"
   ]
  },
  {
   "cell_type": "code",
   "execution_count": 94,
   "id": "b4224077-12a6-409c-b4d6-d6073db63764",
   "metadata": {},
   "outputs": [],
   "source": [
    "def test():\n",
    "    model.eval()  # Set model to evaluation mode\n",
    "\n",
    "    test_loss = 0  # Initialize test loss\n",
    "    correct = 0    # Initialize correct predictions\n",
    "\n",
    "    with torch.no_grad():  # Disable gradient calculations\n",
    "        for data, target in loaders['test']:  # Iterate through test data\n",
    "            output = model(data)  # Get model predictions\n",
    "            test_loss += loss_fn(output, target).item()  # Accumulate loss\n",
    "            pred = output.argmax(dim=1, keepdim=True)  # Get predicted class\n",
    "            correct += pred.eq(target.view_as(pred)).sum().item()  # Count correct predictions\n",
    "\n",
    "    test_loss /= len(loaders['test'].dataset)  # Average test loss\n",
    "    print(f\"\\nLoss: {test_loss:.4f}, Accuracy: {100. * correct / len(loaders['test'].dataset):.4f}%\")"
   ]
  },
  {
   "cell_type": "markdown",
   "id": "8a03465e-da69-462d-9293-1fe9bcc6209b",
   "metadata": {},
   "source": [
    "## Training Neural Network"
   ]
  },
  {
   "cell_type": "code",
   "execution_count": 95,
   "id": "7b30f924-9700-4ea5-8fd0-00a3c48a5dca",
   "metadata": {},
   "outputs": [
    {
     "name": "stdout",
     "output_type": "stream",
     "text": [
      "Epoch: 1, Progress: 0 / 60000, Loss: 2.303767\n",
      "Epoch: 1, Progress: 2000 / 60000, Loss: 2.290027\n",
      "Epoch: 1, Progress: 4000 / 60000, Loss: 2.159450\n",
      "Epoch: 1, Progress: 6000 / 60000, Loss: 2.016214\n",
      "Epoch: 1, Progress: 8000 / 60000, Loss: 1.904445\n",
      "Epoch: 1, Progress: 10000 / 60000, Loss: 1.773231\n",
      "Epoch: 1, Progress: 12000 / 60000, Loss: 1.887738\n",
      "Epoch: 1, Progress: 14000 / 60000, Loss: 1.751299\n",
      "Epoch: 1, Progress: 16000 / 60000, Loss: 1.788006\n",
      "Epoch: 1, Progress: 18000 / 60000, Loss: 1.807648\n",
      "Epoch: 1, Progress: 20000 / 60000, Loss: 1.785443\n",
      "Epoch: 1, Progress: 22000 / 60000, Loss: 1.773785\n",
      "Epoch: 1, Progress: 24000 / 60000, Loss: 1.807131\n",
      "Epoch: 1, Progress: 26000 / 60000, Loss: 1.734413\n",
      "Epoch: 1, Progress: 28000 / 60000, Loss: 1.645554\n",
      "Epoch: 1, Progress: 30000 / 60000, Loss: 1.753033\n",
      "Epoch: 1, Progress: 32000 / 60000, Loss: 1.724449\n",
      "Epoch: 1, Progress: 34000 / 60000, Loss: 1.665481\n",
      "Epoch: 1, Progress: 36000 / 60000, Loss: 1.794372\n",
      "Epoch: 1, Progress: 38000 / 60000, Loss: 1.666678\n",
      "Epoch: 1, Progress: 40000 / 60000, Loss: 1.657258\n",
      "Epoch: 1, Progress: 42000 / 60000, Loss: 1.708962\n",
      "Epoch: 1, Progress: 44000 / 60000, Loss: 1.695456\n",
      "Epoch: 1, Progress: 46000 / 60000, Loss: 1.717300\n",
      "Epoch: 1, Progress: 48000 / 60000, Loss: 1.628659\n",
      "Epoch: 1, Progress: 50000 / 60000, Loss: 1.627063\n",
      "Epoch: 1, Progress: 52000 / 60000, Loss: 1.704342\n",
      "Epoch: 1, Progress: 54000 / 60000, Loss: 1.671976\n",
      "Epoch: 1, Progress: 56000 / 60000, Loss: 1.694055\n",
      "Epoch: 1, Progress: 58000 / 60000, Loss: 1.739313\n",
      "\n",
      "Loss: 0.0162, Accuracy: 84.6600%\n",
      "Epoch: 2, Progress: 0 / 60000, Loss: 1.712533\n",
      "Epoch: 2, Progress: 2000 / 60000, Loss: 1.699658\n",
      "Epoch: 2, Progress: 4000 / 60000, Loss: 1.635575\n",
      "Epoch: 2, Progress: 6000 / 60000, Loss: 1.663245\n",
      "Epoch: 2, Progress: 8000 / 60000, Loss: 1.648073\n",
      "Epoch: 2, Progress: 10000 / 60000, Loss: 1.686406\n",
      "Epoch: 2, Progress: 12000 / 60000, Loss: 1.659958\n",
      "Epoch: 2, Progress: 14000 / 60000, Loss: 1.666597\n",
      "Epoch: 2, Progress: 16000 / 60000, Loss: 1.688997\n",
      "Epoch: 2, Progress: 18000 / 60000, Loss: 1.654338\n",
      "Epoch: 2, Progress: 20000 / 60000, Loss: 1.677642\n",
      "Epoch: 2, Progress: 22000 / 60000, Loss: 1.708772\n",
      "Epoch: 2, Progress: 24000 / 60000, Loss: 1.709910\n",
      "Epoch: 2, Progress: 26000 / 60000, Loss: 1.663852\n",
      "Epoch: 2, Progress: 28000 / 60000, Loss: 1.667293\n",
      "Epoch: 2, Progress: 30000 / 60000, Loss: 1.640592\n",
      "Epoch: 2, Progress: 32000 / 60000, Loss: 1.630094\n",
      "Epoch: 2, Progress: 34000 / 60000, Loss: 1.656867\n",
      "Epoch: 2, Progress: 36000 / 60000, Loss: 1.650778\n",
      "Epoch: 2, Progress: 38000 / 60000, Loss: 1.698905\n",
      "Epoch: 2, Progress: 40000 / 60000, Loss: 1.598078\n",
      "Epoch: 2, Progress: 42000 / 60000, Loss: 1.639515\n",
      "Epoch: 2, Progress: 44000 / 60000, Loss: 1.696993\n",
      "Epoch: 2, Progress: 46000 / 60000, Loss: 1.585349\n",
      "Epoch: 2, Progress: 48000 / 60000, Loss: 1.624248\n",
      "Epoch: 2, Progress: 50000 / 60000, Loss: 1.653384\n",
      "Epoch: 2, Progress: 52000 / 60000, Loss: 1.670467\n",
      "Epoch: 2, Progress: 54000 / 60000, Loss: 1.676597\n",
      "Epoch: 2, Progress: 56000 / 60000, Loss: 1.669753\n",
      "Epoch: 2, Progress: 58000 / 60000, Loss: 1.716268\n",
      "\n",
      "Loss: 0.0160, Accuracy: 86.1400%\n",
      "Epoch: 3, Progress: 0 / 60000, Loss: 1.597294\n",
      "Epoch: 3, Progress: 2000 / 60000, Loss: 1.604149\n",
      "Epoch: 3, Progress: 4000 / 60000, Loss: 1.567849\n",
      "Epoch: 3, Progress: 6000 / 60000, Loss: 1.592952\n",
      "Epoch: 3, Progress: 8000 / 60000, Loss: 1.541069\n",
      "Epoch: 3, Progress: 10000 / 60000, Loss: 1.622569\n",
      "Epoch: 3, Progress: 12000 / 60000, Loss: 1.591383\n",
      "Epoch: 3, Progress: 14000 / 60000, Loss: 1.571376\n",
      "Epoch: 3, Progress: 16000 / 60000, Loss: 1.600919\n",
      "Epoch: 3, Progress: 18000 / 60000, Loss: 1.600115\n",
      "Epoch: 3, Progress: 20000 / 60000, Loss: 1.545665\n",
      "Epoch: 3, Progress: 22000 / 60000, Loss: 1.592331\n",
      "Epoch: 3, Progress: 24000 / 60000, Loss: 1.572115\n",
      "Epoch: 3, Progress: 26000 / 60000, Loss: 1.620864\n",
      "Epoch: 3, Progress: 28000 / 60000, Loss: 1.599579\n",
      "Epoch: 3, Progress: 30000 / 60000, Loss: 1.557375\n",
      "Epoch: 3, Progress: 32000 / 60000, Loss: 1.549739\n",
      "Epoch: 3, Progress: 34000 / 60000, Loss: 1.557714\n",
      "Epoch: 3, Progress: 36000 / 60000, Loss: 1.598996\n",
      "Epoch: 3, Progress: 38000 / 60000, Loss: 1.562436\n",
      "Epoch: 3, Progress: 40000 / 60000, Loss: 1.550450\n",
      "Epoch: 3, Progress: 42000 / 60000, Loss: 1.576798\n",
      "Epoch: 3, Progress: 44000 / 60000, Loss: 1.522109\n",
      "Epoch: 3, Progress: 46000 / 60000, Loss: 1.595526\n",
      "Epoch: 3, Progress: 48000 / 60000, Loss: 1.545805\n",
      "Epoch: 3, Progress: 50000 / 60000, Loss: 1.582934\n",
      "Epoch: 3, Progress: 52000 / 60000, Loss: 1.550604\n",
      "Epoch: 3, Progress: 54000 / 60000, Loss: 1.527302\n",
      "Epoch: 3, Progress: 56000 / 60000, Loss: 1.667309\n",
      "Epoch: 3, Progress: 58000 / 60000, Loss: 1.554958\n",
      "\n",
      "Loss: 0.0151, Accuracy: 95.1500%\n",
      "Epoch: 4, Progress: 0 / 60000, Loss: 1.557143\n",
      "Epoch: 4, Progress: 2000 / 60000, Loss: 1.580615\n",
      "Epoch: 4, Progress: 4000 / 60000, Loss: 1.555755\n",
      "Epoch: 4, Progress: 6000 / 60000, Loss: 1.530101\n",
      "Epoch: 4, Progress: 8000 / 60000, Loss: 1.596404\n",
      "Epoch: 4, Progress: 10000 / 60000, Loss: 1.547207\n",
      "Epoch: 4, Progress: 12000 / 60000, Loss: 1.572070\n",
      "Epoch: 4, Progress: 14000 / 60000, Loss: 1.556428\n",
      "Epoch: 4, Progress: 16000 / 60000, Loss: 1.586867\n",
      "Epoch: 4, Progress: 18000 / 60000, Loss: 1.540662\n",
      "Epoch: 4, Progress: 20000 / 60000, Loss: 1.595574\n",
      "Epoch: 4, Progress: 22000 / 60000, Loss: 1.554283\n",
      "Epoch: 4, Progress: 24000 / 60000, Loss: 1.573595\n",
      "Epoch: 4, Progress: 26000 / 60000, Loss: 1.541734\n",
      "Epoch: 4, Progress: 28000 / 60000, Loss: 1.553294\n",
      "Epoch: 4, Progress: 30000 / 60000, Loss: 1.531942\n",
      "Epoch: 4, Progress: 32000 / 60000, Loss: 1.568724\n",
      "Epoch: 4, Progress: 34000 / 60000, Loss: 1.607416\n",
      "Epoch: 4, Progress: 36000 / 60000, Loss: 1.548177\n",
      "Epoch: 4, Progress: 38000 / 60000, Loss: 1.564361\n",
      "Epoch: 4, Progress: 40000 / 60000, Loss: 1.537152\n",
      "Epoch: 4, Progress: 42000 / 60000, Loss: 1.513270\n",
      "Epoch: 4, Progress: 44000 / 60000, Loss: 1.542310\n",
      "Epoch: 4, Progress: 46000 / 60000, Loss: 1.598812\n",
      "Epoch: 4, Progress: 48000 / 60000, Loss: 1.530111\n",
      "Epoch: 4, Progress: 50000 / 60000, Loss: 1.585225\n",
      "Epoch: 4, Progress: 52000 / 60000, Loss: 1.567746\n",
      "Epoch: 4, Progress: 54000 / 60000, Loss: 1.552838\n",
      "Epoch: 4, Progress: 56000 / 60000, Loss: 1.534390\n",
      "Epoch: 4, Progress: 58000 / 60000, Loss: 1.523750\n",
      "\n",
      "Loss: 0.0150, Accuracy: 96.0000%\n",
      "Epoch: 5, Progress: 0 / 60000, Loss: 1.528326\n",
      "Epoch: 5, Progress: 2000 / 60000, Loss: 1.574406\n",
      "Epoch: 5, Progress: 4000 / 60000, Loss: 1.507892\n",
      "Epoch: 5, Progress: 6000 / 60000, Loss: 1.566474\n",
      "Epoch: 5, Progress: 8000 / 60000, Loss: 1.605866\n",
      "Epoch: 5, Progress: 10000 / 60000, Loss: 1.564052\n",
      "Epoch: 5, Progress: 12000 / 60000, Loss: 1.514403\n",
      "Epoch: 5, Progress: 14000 / 60000, Loss: 1.526434\n",
      "Epoch: 5, Progress: 16000 / 60000, Loss: 1.567938\n",
      "Epoch: 5, Progress: 18000 / 60000, Loss: 1.553883\n",
      "Epoch: 5, Progress: 20000 / 60000, Loss: 1.554346\n",
      "Epoch: 5, Progress: 22000 / 60000, Loss: 1.549498\n",
      "Epoch: 5, Progress: 24000 / 60000, Loss: 1.553593\n",
      "Epoch: 5, Progress: 26000 / 60000, Loss: 1.569535\n",
      "Epoch: 5, Progress: 28000 / 60000, Loss: 1.574095\n",
      "Epoch: 5, Progress: 30000 / 60000, Loss: 1.498819\n",
      "Epoch: 5, Progress: 32000 / 60000, Loss: 1.548721\n",
      "Epoch: 5, Progress: 34000 / 60000, Loss: 1.569422\n",
      "Epoch: 5, Progress: 36000 / 60000, Loss: 1.525043\n",
      "Epoch: 5, Progress: 38000 / 60000, Loss: 1.529712\n",
      "Epoch: 5, Progress: 40000 / 60000, Loss: 1.543676\n",
      "Epoch: 5, Progress: 42000 / 60000, Loss: 1.555984\n",
      "Epoch: 5, Progress: 44000 / 60000, Loss: 1.564399\n",
      "Epoch: 5, Progress: 46000 / 60000, Loss: 1.524331\n",
      "Epoch: 5, Progress: 48000 / 60000, Loss: 1.584175\n",
      "Epoch: 5, Progress: 50000 / 60000, Loss: 1.520788\n",
      "Epoch: 5, Progress: 52000 / 60000, Loss: 1.564454\n",
      "Epoch: 5, Progress: 54000 / 60000, Loss: 1.579698\n",
      "Epoch: 5, Progress: 56000 / 60000, Loss: 1.508909\n",
      "Epoch: 5, Progress: 58000 / 60000, Loss: 1.590433\n",
      "\n",
      "Loss: 0.0150, Accuracy: 96.1000%\n",
      "Epoch: 6, Progress: 0 / 60000, Loss: 1.560800\n",
      "Epoch: 6, Progress: 2000 / 60000, Loss: 1.515821\n",
      "Epoch: 6, Progress: 4000 / 60000, Loss: 1.515849\n",
      "Epoch: 6, Progress: 6000 / 60000, Loss: 1.540908\n",
      "Epoch: 6, Progress: 8000 / 60000, Loss: 1.548184\n",
      "Epoch: 6, Progress: 10000 / 60000, Loss: 1.529354\n",
      "Epoch: 6, Progress: 12000 / 60000, Loss: 1.525975\n",
      "Epoch: 6, Progress: 14000 / 60000, Loss: 1.609715\n",
      "Epoch: 6, Progress: 16000 / 60000, Loss: 1.515929\n",
      "Epoch: 6, Progress: 18000 / 60000, Loss: 1.537823\n",
      "Epoch: 6, Progress: 20000 / 60000, Loss: 1.548730\n",
      "Epoch: 6, Progress: 22000 / 60000, Loss: 1.509566\n",
      "Epoch: 6, Progress: 24000 / 60000, Loss: 1.527666\n",
      "Epoch: 6, Progress: 26000 / 60000, Loss: 1.541276\n",
      "Epoch: 6, Progress: 28000 / 60000, Loss: 1.510479\n",
      "Epoch: 6, Progress: 30000 / 60000, Loss: 1.559715\n",
      "Epoch: 6, Progress: 32000 / 60000, Loss: 1.511464\n",
      "Epoch: 6, Progress: 34000 / 60000, Loss: 1.532871\n",
      "Epoch: 6, Progress: 36000 / 60000, Loss: 1.577118\n",
      "Epoch: 6, Progress: 38000 / 60000, Loss: 1.550938\n",
      "Epoch: 6, Progress: 40000 / 60000, Loss: 1.533518\n",
      "Epoch: 6, Progress: 42000 / 60000, Loss: 1.553225\n",
      "Epoch: 6, Progress: 44000 / 60000, Loss: 1.560837\n",
      "Epoch: 6, Progress: 46000 / 60000, Loss: 1.518846\n",
      "Epoch: 6, Progress: 48000 / 60000, Loss: 1.533520\n",
      "Epoch: 6, Progress: 50000 / 60000, Loss: 1.531904\n",
      "Epoch: 6, Progress: 52000 / 60000, Loss: 1.608057\n",
      "Epoch: 6, Progress: 54000 / 60000, Loss: 1.511812\n",
      "Epoch: 6, Progress: 56000 / 60000, Loss: 1.519562\n",
      "Epoch: 6, Progress: 58000 / 60000, Loss: 1.574337\n",
      "\n",
      "Loss: 0.0150, Accuracy: 96.3900%\n",
      "Epoch: 7, Progress: 0 / 60000, Loss: 1.537198\n",
      "Epoch: 7, Progress: 2000 / 60000, Loss: 1.542259\n",
      "Epoch: 7, Progress: 4000 / 60000, Loss: 1.523127\n",
      "Epoch: 7, Progress: 6000 / 60000, Loss: 1.520456\n",
      "Epoch: 7, Progress: 8000 / 60000, Loss: 1.528354\n",
      "Epoch: 7, Progress: 10000 / 60000, Loss: 1.559390\n",
      "Epoch: 7, Progress: 12000 / 60000, Loss: 1.567130\n",
      "Epoch: 7, Progress: 14000 / 60000, Loss: 1.521453\n",
      "Epoch: 7, Progress: 16000 / 60000, Loss: 1.520435\n",
      "Epoch: 7, Progress: 18000 / 60000, Loss: 1.528573\n",
      "Epoch: 7, Progress: 20000 / 60000, Loss: 1.492584\n",
      "Epoch: 7, Progress: 22000 / 60000, Loss: 1.546557\n",
      "Epoch: 7, Progress: 24000 / 60000, Loss: 1.525898\n",
      "Epoch: 7, Progress: 26000 / 60000, Loss: 1.562811\n",
      "Epoch: 7, Progress: 28000 / 60000, Loss: 1.518889\n",
      "Epoch: 7, Progress: 30000 / 60000, Loss: 1.552609\n",
      "Epoch: 7, Progress: 32000 / 60000, Loss: 1.567437\n",
      "Epoch: 7, Progress: 34000 / 60000, Loss: 1.522797\n",
      "Epoch: 7, Progress: 36000 / 60000, Loss: 1.569590\n",
      "Epoch: 7, Progress: 38000 / 60000, Loss: 1.560262\n",
      "Epoch: 7, Progress: 40000 / 60000, Loss: 1.534658\n",
      "Epoch: 7, Progress: 42000 / 60000, Loss: 1.531220\n",
      "Epoch: 7, Progress: 44000 / 60000, Loss: 1.575665\n",
      "Epoch: 7, Progress: 46000 / 60000, Loss: 1.524234\n",
      "Epoch: 7, Progress: 48000 / 60000, Loss: 1.530113\n",
      "Epoch: 7, Progress: 50000 / 60000, Loss: 1.546793\n",
      "Epoch: 7, Progress: 52000 / 60000, Loss: 1.529777\n",
      "Epoch: 7, Progress: 54000 / 60000, Loss: 1.569244\n",
      "Epoch: 7, Progress: 56000 / 60000, Loss: 1.565754\n",
      "Epoch: 7, Progress: 58000 / 60000, Loss: 1.498790\n",
      "\n",
      "Loss: 0.0149, Accuracy: 96.7600%\n",
      "Epoch: 8, Progress: 0 / 60000, Loss: 1.559825\n",
      "Epoch: 8, Progress: 2000 / 60000, Loss: 1.497897\n",
      "Epoch: 8, Progress: 4000 / 60000, Loss: 1.531471\n",
      "Epoch: 8, Progress: 6000 / 60000, Loss: 1.546144\n",
      "Epoch: 8, Progress: 8000 / 60000, Loss: 1.512469\n",
      "Epoch: 8, Progress: 10000 / 60000, Loss: 1.496166\n",
      "Epoch: 8, Progress: 12000 / 60000, Loss: 1.544412\n",
      "Epoch: 8, Progress: 14000 / 60000, Loss: 1.499468\n",
      "Epoch: 8, Progress: 16000 / 60000, Loss: 1.517771\n",
      "Epoch: 8, Progress: 18000 / 60000, Loss: 1.525636\n",
      "Epoch: 8, Progress: 20000 / 60000, Loss: 1.517595\n",
      "Epoch: 8, Progress: 22000 / 60000, Loss: 1.552830\n",
      "Epoch: 8, Progress: 24000 / 60000, Loss: 1.543181\n",
      "Epoch: 8, Progress: 26000 / 60000, Loss: 1.522944\n",
      "Epoch: 8, Progress: 28000 / 60000, Loss: 1.498456\n",
      "Epoch: 8, Progress: 30000 / 60000, Loss: 1.504582\n",
      "Epoch: 8, Progress: 32000 / 60000, Loss: 1.539607\n",
      "Epoch: 8, Progress: 34000 / 60000, Loss: 1.500555\n",
      "Epoch: 8, Progress: 36000 / 60000, Loss: 1.540551\n",
      "Epoch: 8, Progress: 38000 / 60000, Loss: 1.553859\n",
      "Epoch: 8, Progress: 40000 / 60000, Loss: 1.523991\n",
      "Epoch: 8, Progress: 42000 / 60000, Loss: 1.544033\n",
      "Epoch: 8, Progress: 44000 / 60000, Loss: 1.544221\n",
      "Epoch: 8, Progress: 46000 / 60000, Loss: 1.561809\n",
      "Epoch: 8, Progress: 48000 / 60000, Loss: 1.520843\n",
      "Epoch: 8, Progress: 50000 / 60000, Loss: 1.547453\n",
      "Epoch: 8, Progress: 52000 / 60000, Loss: 1.545782\n",
      "Epoch: 8, Progress: 54000 / 60000, Loss: 1.555372\n",
      "Epoch: 8, Progress: 56000 / 60000, Loss: 1.557047\n",
      "Epoch: 8, Progress: 58000 / 60000, Loss: 1.539694\n",
      "\n",
      "Loss: 0.0149, Accuracy: 96.9700%\n",
      "Epoch: 9, Progress: 0 / 60000, Loss: 1.512995\n",
      "Epoch: 9, Progress: 2000 / 60000, Loss: 1.551541\n",
      "Epoch: 9, Progress: 4000 / 60000, Loss: 1.527983\n",
      "Epoch: 9, Progress: 6000 / 60000, Loss: 1.507565\n",
      "Epoch: 9, Progress: 8000 / 60000, Loss: 1.535926\n",
      "Epoch: 9, Progress: 10000 / 60000, Loss: 1.573997\n",
      "Epoch: 9, Progress: 12000 / 60000, Loss: 1.532428\n",
      "Epoch: 9, Progress: 14000 / 60000, Loss: 1.571461\n",
      "Epoch: 9, Progress: 16000 / 60000, Loss: 1.534065\n",
      "Epoch: 9, Progress: 18000 / 60000, Loss: 1.526231\n",
      "Epoch: 9, Progress: 20000 / 60000, Loss: 1.537686\n",
      "Epoch: 9, Progress: 22000 / 60000, Loss: 1.553092\n",
      "Epoch: 9, Progress: 24000 / 60000, Loss: 1.552516\n",
      "Epoch: 9, Progress: 26000 / 60000, Loss: 1.530904\n",
      "Epoch: 9, Progress: 28000 / 60000, Loss: 1.564914\n",
      "Epoch: 9, Progress: 30000 / 60000, Loss: 1.519944\n",
      "Epoch: 9, Progress: 32000 / 60000, Loss: 1.518632\n",
      "Epoch: 9, Progress: 34000 / 60000, Loss: 1.553690\n",
      "Epoch: 9, Progress: 36000 / 60000, Loss: 1.532062\n",
      "Epoch: 9, Progress: 38000 / 60000, Loss: 1.510255\n",
      "Epoch: 9, Progress: 40000 / 60000, Loss: 1.518031\n",
      "Epoch: 9, Progress: 42000 / 60000, Loss: 1.566794\n",
      "Epoch: 9, Progress: 44000 / 60000, Loss: 1.541757\n",
      "Epoch: 9, Progress: 46000 / 60000, Loss: 1.523886\n",
      "Epoch: 9, Progress: 48000 / 60000, Loss: 1.531146\n",
      "Epoch: 9, Progress: 50000 / 60000, Loss: 1.492219\n",
      "Epoch: 9, Progress: 52000 / 60000, Loss: 1.524009\n",
      "Epoch: 9, Progress: 54000 / 60000, Loss: 1.543544\n",
      "Epoch: 9, Progress: 56000 / 60000, Loss: 1.549914\n",
      "Epoch: 9, Progress: 58000 / 60000, Loss: 1.558881\n",
      "\n",
      "Loss: 0.0149, Accuracy: 97.2700%\n",
      "Epoch: 10, Progress: 0 / 60000, Loss: 1.557707\n",
      "Epoch: 10, Progress: 2000 / 60000, Loss: 1.532733\n",
      "Epoch: 10, Progress: 4000 / 60000, Loss: 1.515565\n",
      "Epoch: 10, Progress: 6000 / 60000, Loss: 1.515804\n",
      "Epoch: 10, Progress: 8000 / 60000, Loss: 1.523877\n",
      "Epoch: 10, Progress: 10000 / 60000, Loss: 1.525945\n",
      "Epoch: 10, Progress: 12000 / 60000, Loss: 1.532285\n",
      "Epoch: 10, Progress: 14000 / 60000, Loss: 1.535852\n",
      "Epoch: 10, Progress: 16000 / 60000, Loss: 1.554243\n",
      "Epoch: 10, Progress: 18000 / 60000, Loss: 1.505865\n",
      "Epoch: 10, Progress: 20000 / 60000, Loss: 1.532321\n",
      "Epoch: 10, Progress: 22000 / 60000, Loss: 1.547432\n",
      "Epoch: 10, Progress: 24000 / 60000, Loss: 1.569793\n",
      "Epoch: 10, Progress: 26000 / 60000, Loss: 1.528303\n",
      "Epoch: 10, Progress: 28000 / 60000, Loss: 1.522016\n",
      "Epoch: 10, Progress: 30000 / 60000, Loss: 1.524309\n",
      "Epoch: 10, Progress: 32000 / 60000, Loss: 1.523640\n",
      "Epoch: 10, Progress: 34000 / 60000, Loss: 1.510620\n",
      "Epoch: 10, Progress: 36000 / 60000, Loss: 1.517826\n",
      "Epoch: 10, Progress: 38000 / 60000, Loss: 1.512518\n",
      "Epoch: 10, Progress: 40000 / 60000, Loss: 1.522815\n",
      "Epoch: 10, Progress: 42000 / 60000, Loss: 1.552127\n",
      "Epoch: 10, Progress: 44000 / 60000, Loss: 1.492642\n",
      "Epoch: 10, Progress: 46000 / 60000, Loss: 1.508647\n",
      "Epoch: 10, Progress: 48000 / 60000, Loss: 1.513917\n",
      "Epoch: 10, Progress: 50000 / 60000, Loss: 1.508381\n",
      "Epoch: 10, Progress: 52000 / 60000, Loss: 1.558358\n",
      "Epoch: 10, Progress: 54000 / 60000, Loss: 1.517871\n",
      "Epoch: 10, Progress: 56000 / 60000, Loss: 1.532563\n",
      "Epoch: 10, Progress: 58000 / 60000, Loss: 1.509951\n",
      "\n",
      "Loss: 0.0149, Accuracy: 97.2600%\n"
     ]
    }
   ],
   "source": [
    "for epoch in range(1, 11):\n",
    "    train(epoch)\n",
    "    test()"
   ]
  },
  {
   "cell_type": "markdown",
   "id": "3a953cae-4e58-4ca2-ad3d-b7c1a4c07901",
   "metadata": {},
   "source": [
    "### We managed to get 97% accuracy of model."
   ]
  },
  {
   "cell_type": "markdown",
   "id": "4d08f544-5029-4f67-a770-2b1a5f3602bd",
   "metadata": {},
   "source": [
    "## Model Visualisation"
   ]
  },
  {
   "cell_type": "code",
   "execution_count": 96,
   "id": "a6e4db61-faa4-48f2-908d-939784d29fa6",
   "metadata": {},
   "outputs": [
    {
     "name": "stdout",
     "output_type": "stream",
     "text": [
      "Prediction: 1\n"
     ]
    },
    {
     "data": {
      "image/png": "[encoded data removed]",
      "text/plain": [
       "<Figure size 640x480 with 1 Axes>"
      ]
     },
     "metadata": {},
     "output_type": "display_data"
    }
   ],
   "source": [
    "import matplotlib.pyplot as plt\n",
    "\n",
    "model.eval() # set model to evaluation mode\n",
    "\n",
    "data, target = test_data[2] # get data and label of test data digit in position 0\n",
    "\n",
    "data = data.unsqueeze(0) # add dimension to the image (1, 1, 28, 28)\n",
    "\n",
    "output = model(data) # calculate prediction\n",
    "\n",
    "prediction = output.argmax(dim=1, keepdim=True).item() # from prediction extract only label of digit\n",
    "\n",
    "print(f\"Prediction: {prediction}\")\n",
    "\n",
    "image = data.squeeze(0).squeeze(0).numpy() # Remove batch and channel dimensions, convert to numpy array -> (28, 28)\n",
    "\n",
    "plt.imshow(image, cmap='gray')\n",
    "plt.show()"
   ]
  },
  {
   "cell_type": "markdown",
   "id": "15a17490-3187-4644-b1db-e0327ef0b6c4",
   "metadata": {},
   "source": [
    "## Custom Digits Recognition"
   ]
  },
  {
   "cell_type": "markdown",
   "id": "65d13f18-3475-4ebb-b9c9-d09cec9d953b",
   "metadata": {},
   "source": [
    "I'll send over a hand-written digits create by me in the \"Paint\" program."
   ]
  },
  {
   "cell_type": "code",
   "execution_count": 98,
   "id": "631e3e6c-1222-4d95-b03e-8b20ea56a87f",
   "metadata": {},
   "outputs": [
    {
     "data": {
      "image/png": "[encoded data removed]",
      "text/plain": [
       "<Figure size 640x480 with 1 Axes>"
      ]
     },
     "metadata": {},
     "output_type": "display_data"
    },
    {
     "data": {
      "image/png": "[encoded data removed]",
      "text/plain": [
       "<Figure size 640x480 with 1 Axes>"
      ]
     },
     "metadata": {},
     "output_type": "display_data"
    },
    {
     "data": {
      "image/png": "[encoded data removed]",
      "text/plain": [
       "<Figure size 640x480 with 1 Axes>"
      ]
     },
     "metadata": {},
     "output_type": "display_data"
    },
    {
     "data": {
      "image/png": "[encoded data removed]",
      "text/plain": [
       "<Figure size 640x480 with 1 Axes>"
      ]
     },
     "metadata": {},
     "output_type": "display_data"
    },
    {
     "data": {
      "image/png": "[encoded data removed]",
      "text/plain": [
       "<Figure size 640x480 with 1 Axes>"
      ]
     },
     "metadata": {},
     "output_type": "display_data"
    },
    {
     "data": {
      "image/png": "[encoded data removed]",
      "text/plain": [
       "<Figure size 640x480 with 1 Axes>"
      ]
     },
     "metadata": {},
     "output_type": "display_data"
    },
    {
     "data": {
      "image/png": "[encoded data removed]",
      "text/plain": [
       "<Figure size 640x480 with 1 Axes>"
      ]
     },
     "metadata": {},
     "output_type": "display_data"
    },
    {
     "data": {
      "image/png": "[encoded data removed]",
      "text/plain": [
       "<Figure size 640x480 with 1 Axes>"
      ]
     },
     "metadata": {},
     "output_type": "display_data"
    }
   ],
   "source": [
    "from PIL import Image\n",
    "from torchvision import transforms\n",
    "import os\n",
    "\n",
    "images_path = './data/hand-written/'\n",
    "images = []\n",
    "\n",
    "transform = transforms.Compose([\n",
    "    transforms.Resize((28, 28)),\n",
    "    transforms.Grayscale(),\n",
    "    transforms.ToTensor(),\n",
    "    transforms.Normalize((0.5,), (0.5,))\n",
    "])\n",
    "\n",
    "\n",
    "for filename in os.listdir(images_path):\n",
    "    if filename.endswith('.png'):\n",
    "\n",
    "        image_path = os.path.join(images_path, filename)\n",
    "        image = Image.open(image_path).convert('L') \n",
    "        \n",
    "        image_tensor = transform(image)\n",
    "        \n",
    "        image_tensor = image_tensor.unsqueeze(0)\n",
    "        \n",
    "        images.append((filename, image_tensor, image))\n",
    "\n",
    "for filename, image_tensor, original_image in images:\n",
    "    with torch.no_grad(): \n",
    "        output = model(image_tensor)\n",
    "    \n",
    "    prediction = output.argmax(dim=1, keepdim=True).item()\n",
    "    \n",
    "    plt.imshow(original_image, cmap='gray')\n",
    "    plt.title(f\"Prediction: {prediction}\")\n",
    "    plt.show()"
   ]
  },
  {
   "cell_type": "markdown",
   "id": "85a7188b-eaae-4abc-a233-9e451464747d",
   "metadata": {},
   "source": [
    "## Save model"
   ]
  },
  {
   "cell_type": "code",
   "execution_count": 100,
   "id": "2a1b45dd-44e1-4e81-9a80-7cc10d75370c",
   "metadata": {},
   "outputs": [],
   "source": [
    "torch.save(model.state_dict(), 'cnn_model.pth')"
   ]
  }
 ],
 "metadata": {
  "kernelspec": {
   "display_name": "tensorflow",
   "language": "python",
   "name": "tensorflow"
  },
  "language_info": {
   "codemirror_mode": {
    "name": "ipython",
    "version": 3
   },
   "file_extension": ".py",
   "mimetype": "text/x-python",
   "name": "python",
   "nbconvert_exporter": "python",
   "pygments_lexer": "ipython3",
   "version": "3.9.15"
  }
 },
 "nbformat": 4,
 "nbformat_minor": 5
}
